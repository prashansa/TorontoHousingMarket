{
 "cells": [
  {
   "cell_type": "markdown",
   "metadata": {},
   "source": [
    "# Toronto Housing Market\n",
    "## Why are houses so expensive in Toronto? \n",
    "\n",
    "There has been a lot of public debate recently about housing prices in Toronto. The cost of living is becoming unaffordable for many Torontonians and home ownership has become unfeasible for a growing percentage of the population. \n",
    "\n",
    "There have been lots of explanations offered and solutions presented from across the political spectrum, yet the data underlying many of these arguments seems surprisingly scarce and the arguments surprisingly non-quantitative. \n",
    "\n",
    "## The aim of this analysis is to \n",
    "1. Understand the most important cause of high prices\n",
    "2. Suggest one or two policy proposals, based on the findings above, that are most likely to reduce housing prices by the largest magnitude. \n"
   ]
  },
  {
   "cell_type": "code",
   "execution_count": null,
   "metadata": {},
   "outputs": [],
   "source": []
  },
  {
   "cell_type": "markdown",
   "metadata": {},
   "source": [
    "## City of Toronto\n",
    "The map below shows the geographical boundaries of the City of Toronto highlighted in yellow. The Greater Toronto Area also includes the Halton, Peel, York and Durham regions. But, for the purposes of this analysis, we will only work with the data for the City of Toronto, and not GTA. "
   ]
  },
  {
   "attachments": {},
   "cell_type": "markdown",
   "metadata": {},
   "source": [
    "<img src='images/cityoftorontomap.png' width='800' height='1000'>\n"
   ]
  },
  {
   "cell_type": "code",
   "execution_count": null,
   "metadata": {},
   "outputs": [],
   "source": []
  },
  {
   "cell_type": "code",
   "execution_count": null,
   "metadata": {},
   "outputs": [],
   "source": []
  },
  {
   "cell_type": "code",
   "execution_count": null,
   "metadata": {},
   "outputs": [],
   "source": []
  },
  {
   "cell_type": "code",
   "execution_count": 1,
   "metadata": {},
   "outputs": [],
   "source": [
    "# Load dependencies\n",
    "\n",
    "import pandas as pd\n",
    "import numpy as np\n",
    "import pandas as pd\n",
    "import matplotlib.pyplot as plt\n",
    "\n",
    "import urllib.request\n",
    "import time\n",
    "\n",
    "import seaborn as sns\n",
    "from scipy import stats\n",
    "\n",
    "plt.rcParams['figure.figsize'] = [7, 5]\n",
    "plt.rcParams['figure.dpi'] = 100 "
   ]
  },
  {
   "cell_type": "markdown",
   "metadata": {},
   "source": [
    "## Trends of Average Sale Price of houses in Toronto\n",
    "\n",
    "First, we examine the status quo. How have the prices behaved over the last two decades  [<sup>1</sup>](#fn1)\n",
    "\n",
    "\n",
    "<span id=\"fn1\">1. Source: Toronto Regional Real Estate Board Historic Archive </span>"
   ]
  },
  {
   "cell_type": "code",
   "execution_count": 2,
   "metadata": {},
   "outputs": [
    {
     "data": {
      "text/html": [
       "<div>\n",
       "<style scoped>\n",
       "    .dataframe tbody tr th:only-of-type {\n",
       "        vertical-align: middle;\n",
       "    }\n",
       "\n",
       "    .dataframe tbody tr th {\n",
       "        vertical-align: top;\n",
       "    }\n",
       "\n",
       "    .dataframe thead th {\n",
       "        text-align: right;\n",
       "    }\n",
       "</style>\n",
       "<table border=\"1\" class=\"dataframe\">\n",
       "  <thead>\n",
       "    <tr style=\"text-align: right;\">\n",
       "      <th></th>\n",
       "      <th>Year</th>\n",
       "      <th>Sales</th>\n",
       "      <th>Average Sale Price</th>\n",
       "    </tr>\n",
       "  </thead>\n",
       "  <tbody>\n",
       "    <tr>\n",
       "      <th>0</th>\n",
       "      <td>2000</td>\n",
       "      <td>58343</td>\n",
       "      <td>243255</td>\n",
       "    </tr>\n",
       "    <tr>\n",
       "      <th>1</th>\n",
       "      <td>2001</td>\n",
       "      <td>67612</td>\n",
       "      <td>251508</td>\n",
       "    </tr>\n",
       "    <tr>\n",
       "      <th>2</th>\n",
       "      <td>2002</td>\n",
       "      <td>74759</td>\n",
       "      <td>275231</td>\n",
       "    </tr>\n",
       "    <tr>\n",
       "      <th>3</th>\n",
       "      <td>2003</td>\n",
       "      <td>78898</td>\n",
       "      <td>293061</td>\n",
       "    </tr>\n",
       "    <tr>\n",
       "      <th>4</th>\n",
       "      <td>2004</td>\n",
       "      <td>83501</td>\n",
       "      <td>315231</td>\n",
       "    </tr>\n",
       "    <tr>\n",
       "      <th>5</th>\n",
       "      <td>2005</td>\n",
       "      <td>84145</td>\n",
       "      <td>335907</td>\n",
       "    </tr>\n",
       "    <tr>\n",
       "      <th>6</th>\n",
       "      <td>2006</td>\n",
       "      <td>83084</td>\n",
       "      <td>351941</td>\n",
       "    </tr>\n",
       "    <tr>\n",
       "      <th>7</th>\n",
       "      <td>2007</td>\n",
       "      <td>93193</td>\n",
       "      <td>376236</td>\n",
       "    </tr>\n",
       "    <tr>\n",
       "      <th>8</th>\n",
       "      <td>2008</td>\n",
       "      <td>74505</td>\n",
       "      <td>379080</td>\n",
       "    </tr>\n",
       "    <tr>\n",
       "      <th>9</th>\n",
       "      <td>2009</td>\n",
       "      <td>86980</td>\n",
       "      <td>395234</td>\n",
       "    </tr>\n",
       "    <tr>\n",
       "      <th>10</th>\n",
       "      <td>2010</td>\n",
       "      <td>85860</td>\n",
       "      <td>431262</td>\n",
       "    </tr>\n",
       "    <tr>\n",
       "      <th>11</th>\n",
       "      <td>2011</td>\n",
       "      <td>89110</td>\n",
       "      <td>464989</td>\n",
       "    </tr>\n",
       "    <tr>\n",
       "      <th>12</th>\n",
       "      <td>2012</td>\n",
       "      <td>85488</td>\n",
       "      <td>497073</td>\n",
       "    </tr>\n",
       "    <tr>\n",
       "      <th>13</th>\n",
       "      <td>2013</td>\n",
       "      <td>87047</td>\n",
       "      <td>522951</td>\n",
       "    </tr>\n",
       "    <tr>\n",
       "      <th>14</th>\n",
       "      <td>2014</td>\n",
       "      <td>92776</td>\n",
       "      <td>566611</td>\n",
       "    </tr>\n",
       "    <tr>\n",
       "      <th>15</th>\n",
       "      <td>2015</td>\n",
       "      <td>101214</td>\n",
       "      <td>622116</td>\n",
       "    </tr>\n",
       "    <tr>\n",
       "      <th>16</th>\n",
       "      <td>2016</td>\n",
       "      <td>113041</td>\n",
       "      <td>729824</td>\n",
       "    </tr>\n",
       "    <tr>\n",
       "      <th>17</th>\n",
       "      <td>2017</td>\n",
       "      <td>92342</td>\n",
       "      <td>822510</td>\n",
       "    </tr>\n",
       "    <tr>\n",
       "      <th>18</th>\n",
       "      <td>2018</td>\n",
       "      <td>78020</td>\n",
       "      <td>787842</td>\n",
       "    </tr>\n",
       "    <tr>\n",
       "      <th>19</th>\n",
       "      <td>2019</td>\n",
       "      <td>87753</td>\n",
       "      <td>819288</td>\n",
       "    </tr>\n",
       "  </tbody>\n",
       "</table>\n",
       "</div>"
      ],
      "text/plain": [
       "    Year   Sales  Average Sale Price\n",
       "0   2000   58343              243255\n",
       "1   2001   67612              251508\n",
       "2   2002   74759              275231\n",
       "3   2003   78898              293061\n",
       "4   2004   83501              315231\n",
       "5   2005   84145              335907\n",
       "6   2006   83084              351941\n",
       "7   2007   93193              376236\n",
       "8   2008   74505              379080\n",
       "9   2009   86980              395234\n",
       "10  2010   85860              431262\n",
       "11  2011   89110              464989\n",
       "12  2012   85488              497073\n",
       "13  2013   87047              522951\n",
       "14  2014   92776              566611\n",
       "15  2015  101214              622116\n",
       "16  2016  113041              729824\n",
       "17  2017   92342              822510\n",
       "18  2018   78020              787842\n",
       "19  2019   87753              819288"
      ]
     },
     "execution_count": 2,
     "metadata": {},
     "output_type": "execute_result"
    }
   ],
   "source": [
    "avg_sale_df = pd.read_csv('C:/Users/MMS-012/Documents/GitHub/TorontoHousingMarket/datasets/toronto-avgsales-avgsalesprice.csv')\n",
    "avg_sale_df"
   ]
  },
  {
   "cell_type": "code",
   "execution_count": null,
   "metadata": {},
   "outputs": [],
   "source": []
  },
  {
   "cell_type": "code",
   "execution_count": 3,
   "metadata": {},
   "outputs": [
    {
     "data": {
      "image/png": "[encoded data removed]",
      "text/plain": [
       "<Figure size 700x500 with 1 Axes>"
      ]
     },
     "metadata": {
      "needs_background": "light"
     },
     "output_type": "display_data"
    }
   ],
   "source": [
    "avg_sale_df.plot(x='Year', y='Average Sale Price', color='orange', linewidth=4, legend=False)\n",
    "plt.ylabel('Average Sale Price (2012 dollars)', fontsize=12)\n",
    "listofyears = np.arange(2000, 2020)\n",
    "plt.xticks(listofyears)\n",
    "plt.locator_params(axis='x', nbins=9)"
   ]
  },
  {
   "cell_type": "markdown",
   "metadata": {},
   "source": [
    "\n",
    "\n",
    "## The average sale price in Toronto has increased by 237% in the last two decades, with a much dramatic rise in the last 10 years. "
   ]
  },
  {
   "cell_type": "code",
   "execution_count": null,
   "metadata": {},
   "outputs": [],
   "source": []
  },
  {
   "cell_type": "code",
   "execution_count": null,
   "metadata": {},
   "outputs": [],
   "source": []
  },
  {
   "cell_type": "markdown",
   "metadata": {},
   "source": [
    "# 1. Income and Demographics\n",
    "\n",
    "## lets check population growth over the years\n",
    "\n",
    "Toronto is one of the fastest growing metropolitan cities in North America. The bar chart below shows census data for the City of Toronto for the last two decades [<sup>2</sup>](#fn2)\n",
    "\n",
    "\n",
    "\n",
    "<span id=\"fn2\">2. Sources:\n",
    "a. \"Population and dwelling counts, for Canada, census metropolitan areas, census agglomerations and census subdivisions (municipalities), 2006 and 2001 censuses - 100% data\". Statistics Canada, 2006 Census of Population.\n",
    "b. \"Population and dwelling counts, for Canada, census metropolitan areas, census agglomerations and census subdivisions (municipalities), 2011 and 2006 censuses\". Statistics Canada, 2011 Census of Population.\n",
    "c. \"Toronto population count\". Statistics Canada, 2016 Census of Population. </span>"
   ]
  },
  {
   "cell_type": "code",
   "execution_count": 4,
   "metadata": {},
   "outputs": [
    {
     "data": {
      "text/html": [
       "<div>\n",
       "<style scoped>\n",
       "    .dataframe tbody tr th:only-of-type {\n",
       "        vertical-align: middle;\n",
       "    }\n",
       "\n",
       "    .dataframe tbody tr th {\n",
       "        vertical-align: top;\n",
       "    }\n",
       "\n",
       "    .dataframe thead th {\n",
       "        text-align: right;\n",
       "    }\n",
       "</style>\n",
       "<table border=\"1\" class=\"dataframe\">\n",
       "  <thead>\n",
       "    <tr style=\"text-align: right;\">\n",
       "      <th></th>\n",
       "      <th>Year</th>\n",
       "      <th>Toronto city population</th>\n",
       "    </tr>\n",
       "  </thead>\n",
       "  <tbody>\n",
       "    <tr>\n",
       "      <th>0</th>\n",
       "      <td>2001</td>\n",
       "      <td>2481494</td>\n",
       "    </tr>\n",
       "    <tr>\n",
       "      <th>1</th>\n",
       "      <td>2006</td>\n",
       "      <td>2503281</td>\n",
       "    </tr>\n",
       "    <tr>\n",
       "      <th>2</th>\n",
       "      <td>2011</td>\n",
       "      <td>2615060</td>\n",
       "    </tr>\n",
       "    <tr>\n",
       "      <th>3</th>\n",
       "      <td>2016</td>\n",
       "      <td>2731571</td>\n",
       "    </tr>\n",
       "  </tbody>\n",
       "</table>\n",
       "</div>"
      ],
      "text/plain": [
       "   Year  Toronto city population\n",
       "0  2001                  2481494\n",
       "1  2006                  2503281\n",
       "2  2011                  2615060\n",
       "3  2016                  2731571"
      ]
     },
     "execution_count": 4,
     "metadata": {},
     "output_type": "execute_result"
    }
   ],
   "source": [
    "pop_df = pd.read_csv(\"C:/Users/MMS-012/Documents/GitHub/TorontoHousingMarket/datasets/toronto-population.csv\")\n",
    "pop_df"
   ]
  },
  {
   "cell_type": "code",
   "execution_count": 5,
   "metadata": {},
   "outputs": [
    {
     "data": {
      "text/plain": [
       "<matplotlib.axes._subplots.AxesSubplot at 0x1bdf69d1b88>"
      ]
     },
     "execution_count": 5,
     "metadata": {},
     "output_type": "execute_result"
    },
    {
     "data": {
      "image/png": "[encoded data removed]",
      "text/plain": [
       "<Figure size 700x500 with 1 Axes>"
      ]
     },
     "metadata": {
      "needs_background": "light"
     },
     "output_type": "display_data"
    }
   ],
   "source": [
    "pop_df.plot(x='Year', y='Toronto city population', kind='bar', logy=True)"
   ]
  },
  {
   "cell_type": "markdown",
   "metadata": {},
   "source": []
  },
  {
   "cell_type": "code",
   "execution_count": 6,
   "metadata": {},
   "outputs": [
    {
     "data": {
      "text/plain": [
       "0         NaN\n",
       "1    0.877979\n",
       "2    4.465300\n",
       "3    4.455385\n",
       "Name: Toronto city population, dtype: float64"
      ]
     },
     "execution_count": 6,
     "metadata": {},
     "output_type": "execute_result"
    }
   ],
   "source": [
    "pop_df['Toronto city population'].pct_change()*100"
   ]
  },
  {
   "cell_type": "markdown",
   "metadata": {},
   "source": [
    "Population grew by 4.46% from 2011 to 2016, from 2,615,060 people to 2,731,571 in 2016, indicating an average annual growth close to 23000 people, which is comparable to the national growth rate of 5.9% [<sup>3</sup>](#fn3)\n",
    "\n",
    "\n",
    "\n",
    "<span id=\"fn3\">3. Source:  Statistics Canada: https://www12.statcan.gc.ca/census-recensement/2011/as-sa/fogs-spg/Facts-cma-eng.cfm?LANG=Eng&GK=CMA&GC=535) </span>\n",
    "\n",
    "\n",
    "\n",
    "\n",
    "\n",
    "~~By 2041, Population is projected to grow by double this amount, according to the 2019 study by Canadian Centre for Economic Analysis. ~~\n",
    "\n",
    "Within the GTA, Toronto’s population is projected to rise from 2.97 million in 2019 to 3.73 million in 2046, an increase of 25.9 per cent, slower than the provincial growth rate.\n",
    "\n",
    "\n",
    "As population increases, demand and competition for housing is expected to increase"
   ]
  },
  {
   "cell_type": "code",
   "execution_count": null,
   "metadata": {},
   "outputs": [],
   "source": []
  },
  {
   "cell_type": "code",
   "execution_count": null,
   "metadata": {},
   "outputs": [],
   "source": []
  },
  {
   "cell_type": "code",
   "execution_count": null,
   "metadata": {},
   "outputs": [],
   "source": []
  },
  {
   "cell_type": "markdown",
   "metadata": {},
   "source": [
    "##  Lets take a look at how the median income of households has changed, and compare that to the ownership costs of a typical home in Toronto. "
   ]
  },
  {
   "cell_type": "code",
   "execution_count": null,
   "metadata": {},
   "outputs": [],
   "source": []
  },
  {
   "cell_type": "code",
   "execution_count": 7,
   "metadata": {},
   "outputs": [
    {
     "data": {
      "text/html": [
       "<div>\n",
       "<style scoped>\n",
       "    .dataframe tbody tr th:only-of-type {\n",
       "        vertical-align: middle;\n",
       "    }\n",
       "\n",
       "    .dataframe tbody tr th {\n",
       "        vertical-align: top;\n",
       "    }\n",
       "\n",
       "    .dataframe thead th {\n",
       "        text-align: right;\n",
       "    }\n",
       "</style>\n",
       "<table border=\"1\" class=\"dataframe\">\n",
       "  <thead>\n",
       "    <tr style=\"text-align: right;\">\n",
       "      <th></th>\n",
       "      <th>year</th>\n",
       "      <th>median income (all households)</th>\n",
       "    </tr>\n",
       "  </thead>\n",
       "  <tbody>\n",
       "    <tr>\n",
       "      <th>0</th>\n",
       "      <td>2001</td>\n",
       "      <td>57900</td>\n",
       "    </tr>\n",
       "    <tr>\n",
       "      <th>1</th>\n",
       "      <td>2002</td>\n",
       "      <td>58200</td>\n",
       "    </tr>\n",
       "    <tr>\n",
       "      <th>2</th>\n",
       "      <td>2003</td>\n",
       "      <td>58500</td>\n",
       "    </tr>\n",
       "    <tr>\n",
       "      <th>3</th>\n",
       "      <td>2004</td>\n",
       "      <td>60100</td>\n",
       "    </tr>\n",
       "    <tr>\n",
       "      <th>4</th>\n",
       "      <td>2005</td>\n",
       "      <td>61800</td>\n",
       "    </tr>\n",
       "    <tr>\n",
       "      <th>5</th>\n",
       "      <td>2006</td>\n",
       "      <td>63800</td>\n",
       "    </tr>\n",
       "    <tr>\n",
       "      <th>6</th>\n",
       "      <td>2007</td>\n",
       "      <td>66560</td>\n",
       "    </tr>\n",
       "    <tr>\n",
       "      <th>7</th>\n",
       "      <td>2008</td>\n",
       "      <td>68120</td>\n",
       "    </tr>\n",
       "    <tr>\n",
       "      <th>8</th>\n",
       "      <td>2009</td>\n",
       "      <td>66790</td>\n",
       "    </tr>\n",
       "    <tr>\n",
       "      <th>9</th>\n",
       "      <td>2010</td>\n",
       "      <td>68110</td>\n",
       "    </tr>\n",
       "    <tr>\n",
       "      <th>10</th>\n",
       "      <td>2011</td>\n",
       "      <td>69740</td>\n",
       "    </tr>\n",
       "    <tr>\n",
       "      <th>11</th>\n",
       "      <td>2012</td>\n",
       "      <td>71210</td>\n",
       "    </tr>\n",
       "    <tr>\n",
       "      <th>12</th>\n",
       "      <td>2013</td>\n",
       "      <td>72830</td>\n",
       "    </tr>\n",
       "    <tr>\n",
       "      <th>13</th>\n",
       "      <td>2014</td>\n",
       "      <td>75270</td>\n",
       "    </tr>\n",
       "    <tr>\n",
       "      <th>14</th>\n",
       "      <td>2015</td>\n",
       "      <td>78280</td>\n",
       "    </tr>\n",
       "    <tr>\n",
       "      <th>15</th>\n",
       "      <td>2016</td>\n",
       "      <td>80310</td>\n",
       "    </tr>\n",
       "    <tr>\n",
       "      <th>16</th>\n",
       "      <td>2017</td>\n",
       "      <td>83020</td>\n",
       "    </tr>\n",
       "    <tr>\n",
       "      <th>17</th>\n",
       "      <td>2018</td>\n",
       "      <td>86670</td>\n",
       "    </tr>\n",
       "  </tbody>\n",
       "</table>\n",
       "</div>"
      ],
      "text/plain": [
       "    year  median income (all households)\n",
       "0   2001                           57900\n",
       "1   2002                           58200\n",
       "2   2003                           58500\n",
       "3   2004                           60100\n",
       "4   2005                           61800\n",
       "5   2006                           63800\n",
       "6   2007                           66560\n",
       "7   2008                           68120\n",
       "8   2009                           66790\n",
       "9   2010                           68110\n",
       "10  2011                           69740\n",
       "11  2012                           71210\n",
       "12  2013                           72830\n",
       "13  2014                           75270\n",
       "14  2015                           78280\n",
       "15  2016                           80310\n",
       "16  2017                           83020\n",
       "17  2018                           86670"
      ]
     },
     "execution_count": 7,
     "metadata": {},
     "output_type": "execute_result"
    }
   ],
   "source": [
    "med_income_df = pd.read_csv('C:/Users/MMS-012/Documents/GitHub/TorontoHousingMarket/datasets/toronto-median-income.csv')\n",
    "med_income_df['median income (all households)'] = med_income_df['median income (all households)'].str.replace(',', '').astype(int)\n",
    "med_income_df"
   ]
  },
  {
   "cell_type": "code",
   "execution_count": null,
   "metadata": {},
   "outputs": [],
   "source": []
  },
  {
   "cell_type": "code",
   "execution_count": 8,
   "metadata": {
    "scrolled": true
   },
   "outputs": [
    {
     "data": {
      "text/html": [
       "<div>\n",
       "<style scoped>\n",
       "    .dataframe tbody tr th:only-of-type {\n",
       "        vertical-align: middle;\n",
       "    }\n",
       "\n",
       "    .dataframe tbody tr th {\n",
       "        vertical-align: top;\n",
       "    }\n",
       "\n",
       "    .dataframe thead th {\n",
       "        text-align: right;\n",
       "    }\n",
       "</style>\n",
       "<table border=\"1\" class=\"dataframe\">\n",
       "  <thead>\n",
       "    <tr style=\"text-align: right;\">\n",
       "      <th></th>\n",
       "      <th>Year</th>\n",
       "      <th>Composite Benchmark Price</th>\n",
       "    </tr>\n",
       "  </thead>\n",
       "  <tbody>\n",
       "    <tr>\n",
       "      <th>0</th>\n",
       "      <td>2005</td>\n",
       "      <td>313984</td>\n",
       "    </tr>\n",
       "    <tr>\n",
       "      <th>1</th>\n",
       "      <td>2006</td>\n",
       "      <td>329542</td>\n",
       "    </tr>\n",
       "    <tr>\n",
       "      <th>2</th>\n",
       "      <td>2007</td>\n",
       "      <td>348442</td>\n",
       "    </tr>\n",
       "    <tr>\n",
       "      <th>3</th>\n",
       "      <td>2008</td>\n",
       "      <td>361567</td>\n",
       "    </tr>\n",
       "    <tr>\n",
       "      <th>4</th>\n",
       "      <td>2009</td>\n",
       "      <td>362500</td>\n",
       "    </tr>\n",
       "    <tr>\n",
       "      <th>5</th>\n",
       "      <td>2010</td>\n",
       "      <td>399434</td>\n",
       "    </tr>\n",
       "    <tr>\n",
       "      <th>6</th>\n",
       "      <td>2011</td>\n",
       "      <td>424734</td>\n",
       "    </tr>\n",
       "    <tr>\n",
       "      <th>7</th>\n",
       "      <td>2012</td>\n",
       "      <td>453500</td>\n",
       "    </tr>\n",
       "    <tr>\n",
       "      <th>8</th>\n",
       "      <td>2013</td>\n",
       "      <td>471834</td>\n",
       "    </tr>\n",
       "    <tr>\n",
       "      <th>9</th>\n",
       "      <td>2014</td>\n",
       "      <td>507409</td>\n",
       "    </tr>\n",
       "    <tr>\n",
       "      <th>10</th>\n",
       "      <td>2015</td>\n",
       "      <td>554175</td>\n",
       "    </tr>\n",
       "    <tr>\n",
       "      <th>11</th>\n",
       "      <td>2016</td>\n",
       "      <td>641434</td>\n",
       "    </tr>\n",
       "    <tr>\n",
       "      <th>12</th>\n",
       "      <td>2017</td>\n",
       "      <td>762342</td>\n",
       "    </tr>\n",
       "    <tr>\n",
       "      <th>13</th>\n",
       "      <td>2018</td>\n",
       "      <td>762617</td>\n",
       "    </tr>\n",
       "    <tr>\n",
       "      <th>14</th>\n",
       "      <td>2019</td>\n",
       "      <td>795475</td>\n",
       "    </tr>\n",
       "    <tr>\n",
       "      <th>15</th>\n",
       "      <td>2020</td>\n",
       "      <td>865467</td>\n",
       "    </tr>\n",
       "  </tbody>\n",
       "</table>\n",
       "</div>"
      ],
      "text/plain": [
       "    Year  Composite Benchmark Price\n",
       "0   2005                     313984\n",
       "1   2006                     329542\n",
       "2   2007                     348442\n",
       "3   2008                     361567\n",
       "4   2009                     362500\n",
       "5   2010                     399434\n",
       "6   2011                     424734\n",
       "7   2012                     453500\n",
       "8   2013                     471834\n",
       "9   2014                     507409\n",
       "10  2015                     554175\n",
       "11  2016                     641434\n",
       "12  2017                     762342\n",
       "13  2018                     762617\n",
       "14  2019                     795475\n",
       "15  2020                     865467"
      ]
     },
     "execution_count": 8,
     "metadata": {},
     "output_type": "execute_result"
    }
   ],
   "source": [
    "benchmark_household_df = pd.read_csv('C:/Users/MMS-012/Documents/GitHub/TorontoHousingMarket/datasets/MLS-BenchmarkPrices-AllHouseholdTypes-composite.csv')\n",
    "benchmark_household_df"
   ]
  },
  {
   "cell_type": "code",
   "execution_count": 9,
   "metadata": {},
   "outputs": [
    {
     "data": {
      "image/png": "[encoded data removed]",
      "text/plain": [
       "<Figure size 700x500 with 1 Axes>"
      ]
     },
     "metadata": {
      "needs_background": "light"
     },
     "output_type": "display_data"
    }
   ],
   "source": [
    "# fig,ax = plt.subplots()\n",
    "\n",
    "# ax.plot(med_income_df['year'], med_income_df['median income (all households)'], color='red')\n",
    "# # ax.set_ylim(0, 100000)\n",
    "# ax.set_xlabel('year',fontsize=14)\n",
    "# ax.set_ylabel('median income (all households)', fontsize=14)\n",
    "\n",
    "# ax2=ax.twinx()\n",
    "# ax2.plot(benchmark_household_df['Year'], benchmark_household_df['Composite Benchmark Price'])\n",
    "# # ax2.set_ylim(0,900000)\n",
    "# ax2.set_ylabel('composite benchmark price')\n",
    "              \n",
    "\n",
    "ax = med_income_df.plot(x='year', y='median income (all households)')\n",
    "benchmark_household_df.plot(ax=ax, x='Year', y='Composite Benchmark Price')\n",
    "listofyears = np.arange(2000, 2020)\n",
    "plt.xticks(listofyears)\n",
    "plt.locator_params(axis='x', nbins=9)"
   ]
  },
  {
   "cell_type": "code",
   "execution_count": null,
   "metadata": {},
   "outputs": [],
   "source": []
  },
  {
   "cell_type": "markdown",
   "metadata": {},
   "source": [
    "## Taking into consideration the growth between years 2005 to 2018 (for which we have both income and ownership cost data), median household income grew only 40% while average home ownership costs grew 143% reducing movement of middle-income households from rental housing to ownership.\n"
   ]
  },
  {
   "cell_type": "code",
   "execution_count": null,
   "metadata": {},
   "outputs": [],
   "source": []
  },
  {
   "cell_type": "code",
   "execution_count": null,
   "metadata": {},
   "outputs": [],
   "source": []
  },
  {
   "cell_type": "markdown",
   "metadata": {},
   "source": [
    "# 2. A look at the lending rates for mortgages and credit accessibility\n",
    "\n",
    "lowered mortgage lending rates and relaxed insurance rules allow for more people to enter the market. Thus driving up the demand, which if not increased in proportion to the supply, home prices will increase! \n",
    "\n",
    "A more accessible credit is kind of like an incentive for people to stop renting, and actually buying and calling a home theirs, by taking advantage of more flexible and affordable borrowing terms. \n"
   ]
  },
  {
   "cell_type": "code",
   "execution_count": 10,
   "metadata": {},
   "outputs": [
    {
     "data": {
      "text/html": [
       "<div>\n",
       "<style scoped>\n",
       "    .dataframe tbody tr th:only-of-type {\n",
       "        vertical-align: middle;\n",
       "    }\n",
       "\n",
       "    .dataframe tbody tr th {\n",
       "        vertical-align: top;\n",
       "    }\n",
       "\n",
       "    .dataframe thead th {\n",
       "        text-align: right;\n",
       "    }\n",
       "</style>\n",
       "<table border=\"1\" class=\"dataframe\">\n",
       "  <thead>\n",
       "    <tr style=\"text-align: right;\">\n",
       "      <th></th>\n",
       "      <th>Year</th>\n",
       "      <th>Lending Rate</th>\n",
       "    </tr>\n",
       "  </thead>\n",
       "  <tbody>\n",
       "    <tr>\n",
       "      <th>0</th>\n",
       "      <td>2000</td>\n",
       "      <td>8.20</td>\n",
       "    </tr>\n",
       "    <tr>\n",
       "      <th>1</th>\n",
       "      <td>2001</td>\n",
       "      <td>7.18</td>\n",
       "    </tr>\n",
       "    <tr>\n",
       "      <th>2</th>\n",
       "      <td>2002</td>\n",
       "      <td>6.70</td>\n",
       "    </tr>\n",
       "    <tr>\n",
       "      <th>3</th>\n",
       "      <td>2003</td>\n",
       "      <td>6.04</td>\n",
       "    </tr>\n",
       "    <tr>\n",
       "      <th>4</th>\n",
       "      <td>2004</td>\n",
       "      <td>5.80</td>\n",
       "    </tr>\n",
       "    <tr>\n",
       "      <th>5</th>\n",
       "      <td>2005</td>\n",
       "      <td>5.48</td>\n",
       "    </tr>\n",
       "    <tr>\n",
       "      <th>6</th>\n",
       "      <td>2006</td>\n",
       "      <td>5.98</td>\n",
       "    </tr>\n",
       "    <tr>\n",
       "      <th>7</th>\n",
       "      <td>2007</td>\n",
       "      <td>6.36</td>\n",
       "    </tr>\n",
       "    <tr>\n",
       "      <th>8</th>\n",
       "      <td>2008</td>\n",
       "      <td>6.41</td>\n",
       "    </tr>\n",
       "    <tr>\n",
       "      <th>9</th>\n",
       "      <td>2009</td>\n",
       "      <td>5.06</td>\n",
       "    </tr>\n",
       "    <tr>\n",
       "      <th>10</th>\n",
       "      <td>2010</td>\n",
       "      <td>4.82</td>\n",
       "    </tr>\n",
       "    <tr>\n",
       "      <th>11</th>\n",
       "      <td>2011</td>\n",
       "      <td>4.57</td>\n",
       "    </tr>\n",
       "    <tr>\n",
       "      <th>12</th>\n",
       "      <td>2012</td>\n",
       "      <td>4.24</td>\n",
       "    </tr>\n",
       "    <tr>\n",
       "      <th>13</th>\n",
       "      <td>2013</td>\n",
       "      <td>4.17</td>\n",
       "    </tr>\n",
       "    <tr>\n",
       "      <th>14</th>\n",
       "      <td>2014</td>\n",
       "      <td>4.08</td>\n",
       "    </tr>\n",
       "    <tr>\n",
       "      <th>15</th>\n",
       "      <td>2015</td>\n",
       "      <td>3.78</td>\n",
       "    </tr>\n",
       "    <tr>\n",
       "      <th>16</th>\n",
       "      <td>2016</td>\n",
       "      <td>3.71</td>\n",
       "    </tr>\n",
       "    <tr>\n",
       "      <th>17</th>\n",
       "      <td>2017</td>\n",
       "      <td>3.79</td>\n",
       "    </tr>\n",
       "    <tr>\n",
       "      <th>18</th>\n",
       "      <td>2018</td>\n",
       "      <td>4.37</td>\n",
       "    </tr>\n",
       "    <tr>\n",
       "      <th>19</th>\n",
       "      <td>2019</td>\n",
       "      <td>4.25</td>\n",
       "    </tr>\n",
       "    <tr>\n",
       "      <th>20</th>\n",
       "      <td>2020</td>\n",
       "      <td>3.82</td>\n",
       "    </tr>\n",
       "  </tbody>\n",
       "</table>\n",
       "</div>"
      ],
      "text/plain": [
       "    Year  Lending Rate\n",
       "0   2000          8.20\n",
       "1   2001          7.18\n",
       "2   2002          6.70\n",
       "3   2003          6.04\n",
       "4   2004          5.80\n",
       "5   2005          5.48\n",
       "6   2006          5.98\n",
       "7   2007          6.36\n",
       "8   2008          6.41\n",
       "9   2009          5.06\n",
       "10  2010          4.82\n",
       "11  2011          4.57\n",
       "12  2012          4.24\n",
       "13  2013          4.17\n",
       "14  2014          4.08\n",
       "15  2015          3.78\n",
       "16  2016          3.71\n",
       "17  2017          3.79\n",
       "18  2018          4.37\n",
       "19  2019          4.25\n",
       "20  2020          3.82"
      ]
     },
     "execution_count": 10,
     "metadata": {},
     "output_type": "execute_result"
    }
   ],
   "source": [
    "lend_rate_df = pd.read_csv('C:/Users/MMS-012/Documents/GitHub/TorontoHousingMarket/datasets/canada-lendingrates.csv')\n",
    "lend_rate_df"
   ]
  },
  {
   "cell_type": "code",
   "execution_count": 11,
   "metadata": {},
   "outputs": [
    {
     "data": {
      "image/png": "[encoded data removed]",
      "text/plain": [
       "<Figure size 700x500 with 1 Axes>"
      ]
     },
     "metadata": {
      "needs_background": "light"
     },
     "output_type": "display_data"
    }
   ],
   "source": [
    "lend_rate_df.plot(x='Year', y='Lending Rate', legend=False, color='purple', linewidth=4)\n",
    "plt.ylabel('5-year Mortgage Lending Rates (%)', fontsize=12)\n",
    "plt.locator_params(axis='x', nbins=5)"
   ]
  },
  {
   "cell_type": "markdown",
   "metadata": {},
   "source": [
    "The above graph shows the steep decline of mortgage lending rates in the last two decades, with a couple of local maxima around the time of recession in 2008 and a smaller one around 2018, before it falls further in 2020 during Covid-19 pandemic. \n",
    "\n",
    "\n",
    "A lower mortgage rate means an increase in buying power because a person can now borrow a larger sum of money, while keeping the monthly payments same! \n",
    "\n",
    "The chart below the shows the inverse relationship between lending rates and house prices. "
   ]
  },
  {
   "cell_type": "code",
   "execution_count": 12,
   "metadata": {},
   "outputs": [
    {
     "data": {
      "image/png": "[encoded data removed]",
      "text/plain": [
       "<Figure size 700x500 with 2 Axes>"
      ]
     },
     "metadata": {},
     "output_type": "display_data"
    }
   ],
   "source": [
    "fig,ax = plt.subplots()\n",
    "\n",
    "ax.plot(lend_rate_df['Year'],lend_rate_df['Lending Rate'], color='purple', linewidth=4)\n",
    "ax.set_ylim(0, 20)\n",
    "ax.set_xlabel('Year',fontsize=14)\n",
    "ax.set_ylabel('5-year Mortgage Lending Rates (%)', fontsize=12)\n",
    "ax.tick_params(axis='y', colors='purple')\n",
    "\n",
    "ax2=ax.twinx()\n",
    "ax2.plot(avg_sale_df['Year'], avg_sale_df['Average Sale Price'], color='orange', linewidth=4)\n",
    "ax2.set_ylim(0, 900000)\n",
    "ax2.set_ylabel('Average Sale Price (2012 dollars)', fontsize=12)\n",
    "plt.locator_params(axis='x', nbins=12)\n",
    "ax2.tick_params(axis='y', colors='orange')"
   ]
  },
  {
   "cell_type": "markdown",
   "metadata": {},
   "source": [
    "There is a strong inverse relationship between lending rates and sale price for the City of Toronto, but it is not a factor that can be used to understand the rise in home prices. Since, for an average person, the actual cost of owning a home has not changed significantly. Even though houses are expensive today, than 20 years ago, monthly costs are similar today to those in 2000. "
   ]
  },
  {
   "cell_type": "code",
   "execution_count": null,
   "metadata": {},
   "outputs": [],
   "source": []
  },
  {
   "cell_type": "markdown",
   "metadata": {},
   "source": [
    "# 3. Construction and Development costs\n",
    "\n",
    "These include the costs incurred due to construction material and the labour wages, which are expected to change as economies change. As these costs increase, they can drive up the home prices. \n",
    "\n",
    "Let us look at the data, and see their significance. \n",
    "\n",
    "The graph below shows the New Housing Price Index [<sup>4</sup>](#fn4)\n",
    "\n",
    "\n",
    "\n",
    "<span id=\"fn4\">4. Statistics Canada. Table 18-10-0205-01 New housing price index, monthly</span>\n",
    "\n",
    "### [ The increase in these charges accounts for only a small fraction of the increase in home prices. ]\n",
    "\n",
    "\n",
    "\n",
    "\n",
    "Construction Union Wage Rate Index [<sup>5</sup>](#fn5)\n",
    "\n",
    "<span id=\"fn5\">5. Statistics Canada. Table 18-10-0051-01 Construction union wage rates index, monthly</span>"
   ]
  },
  {
   "cell_type": "code",
   "execution_count": null,
   "metadata": {},
   "outputs": [],
   "source": []
  },
  {
   "cell_type": "code",
   "execution_count": null,
   "metadata": {},
   "outputs": [],
   "source": []
  },
  {
   "cell_type": "code",
   "execution_count": null,
   "metadata": {},
   "outputs": [],
   "source": []
  }
 ],
 "metadata": {
  "kernelspec": {
   "display_name": "Python 3",
   "language": "python",
   "name": "python3"
  },
  "language_info": {
   "codemirror_mode": {
    "name": "ipython",
    "version": 3
   },
   "file_extension": ".py",
   "mimetype": "text/x-python",
   "name": "python",
   "nbconvert_exporter": "python",
   "pygments_lexer": "ipython3",
   "version": "3.7.6"
  }
 },
 "nbformat": 4,
 "nbformat_minor": 4
}
