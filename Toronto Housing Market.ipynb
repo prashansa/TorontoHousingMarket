{
 "cells": [
  {
   "cell_type": "markdown",
   "metadata": {},
   "source": [
    "# Toronto Housing Market\n",
    "## Why are houses so expensive in Toronto? \n",
    "\n",
    "There has been a lot of public debate recently about housing prices in Toronto. The cost of living is becoming unaffordable for many Torontonians and home ownership has become unfeasible for a growing percentage of the population. \n",
    "\n",
    "There have been lots of explanations offered and solutions presented from across the political spectrum, yet the data underlying many of these arguments seems surprisingly scarce and the arguments surprisingly non-quantitative. \n",
    "\n",
    "## The aim of this analysis is to \n",
    "1. Understand the most important cause of high prices\n",
    "2. Suggest one or two policy proposals, based on the findings above, that are most likely to reduce housing prices by the largest magnitude. \n"
   ]
  },
  {
   "cell_type": "markdown",
   "metadata": {},
   "source": [
    "## City of Toronto\n",
    "The map below shows the geographical boundaries of the City of Toronto highlighted in yellow. The Greater Toronto Area also includes the Halton, Peel, York and Durham regions. But, for the purposes of this analysis, we will *only* work with the data for the City of Toronto, and *not* GTA. \n",
    "(Many of the trends may not necessarily carry over to other regions outside of City of Toronto) "
   ]
  },
  {
   "attachments": {},
   "cell_type": "markdown",
   "metadata": {},
   "source": [
    "<img src='images/cityoftorontomap.png' width='800' height='1000'>\n"
   ]
  },
  {
   "cell_type": "code",
   "execution_count": 1,
   "metadata": {},
   "outputs": [
    {
     "data": {
      "text/html": [
       "\n",
       "<style>\n",
       ".output_png {\n",
       "    display: table-cell;\n",
       "    text-align: center;\n",
       "    vertical-align: middle;\n",
       "}\n",
       "</style>\n"
      ],
      "text/plain": [
       "<IPython.core.display.HTML object>"
      ]
     },
     "execution_count": 1,
     "metadata": {},
     "output_type": "execute_result"
    }
   ],
   "source": [
    "# Load dependencies\n",
    "\n",
    "import pandas as pd\n",
    "import numpy as np\n",
    "import pandas as pd\n",
    "import matplotlib.pyplot as plt\n",
    "\n",
    "import urllib.request\n",
    "import time\n",
    "\n",
    "import seaborn as sns\n",
    "from scipy import stats\n",
    "\n",
    "plt.rcParams['figure.figsize'] = [7, 5]\n",
    "plt.rcParams['figure.dpi'] = 100 \n",
    "\n",
    "from IPython.core.display import HTML\n",
    "HTML(\"\"\"\n",
    "<style>\n",
    ".output_png {\n",
    "    display: table-cell;\n",
    "    text-align: center;\n",
    "    vertical-align: middle;\n",
    "}\n",
    "</style>\n",
    "\"\"\")"
   ]
  },
  {
   "cell_type": "markdown",
   "metadata": {},
   "source": [
    "## Housing Market \n",
    "\n",
    "First, we examine the status quo. How have the prices behaved over the last two decades  [<sup>1</sup>](#fn1)\n",
    "\n"
   ]
  },
  {
   "cell_type": "code",
   "execution_count": 2,
   "metadata": {},
   "outputs": [
    {
     "data": {
      "text/html": [
       "<div>\n",
       "<style scoped>\n",
       "    .dataframe tbody tr th:only-of-type {\n",
       "        vertical-align: middle;\n",
       "    }\n",
       "\n",
       "    .dataframe tbody tr th {\n",
       "        vertical-align: top;\n",
       "    }\n",
       "\n",
       "    .dataframe thead th {\n",
       "        text-align: right;\n",
       "    }\n",
       "</style>\n",
       "<table border=\"1\" class=\"dataframe\">\n",
       "  <thead>\n",
       "    <tr style=\"text-align: right;\">\n",
       "      <th></th>\n",
       "      <th>Year</th>\n",
       "      <th>Sales</th>\n",
       "      <th>Average Sale Price</th>\n",
       "    </tr>\n",
       "  </thead>\n",
       "  <tbody>\n",
       "    <tr>\n",
       "      <th>0</th>\n",
       "      <td>2000</td>\n",
       "      <td>58343</td>\n",
       "      <td>243255</td>\n",
       "    </tr>\n",
       "    <tr>\n",
       "      <th>1</th>\n",
       "      <td>2001</td>\n",
       "      <td>67612</td>\n",
       "      <td>251508</td>\n",
       "    </tr>\n",
       "    <tr>\n",
       "      <th>2</th>\n",
       "      <td>2002</td>\n",
       "      <td>74759</td>\n",
       "      <td>275231</td>\n",
       "    </tr>\n",
       "    <tr>\n",
       "      <th>3</th>\n",
       "      <td>2003</td>\n",
       "      <td>78898</td>\n",
       "      <td>293061</td>\n",
       "    </tr>\n",
       "    <tr>\n",
       "      <th>4</th>\n",
       "      <td>2004</td>\n",
       "      <td>83501</td>\n",
       "      <td>315231</td>\n",
       "    </tr>\n",
       "    <tr>\n",
       "      <th>5</th>\n",
       "      <td>2005</td>\n",
       "      <td>84145</td>\n",
       "      <td>335907</td>\n",
       "    </tr>\n",
       "    <tr>\n",
       "      <th>6</th>\n",
       "      <td>2006</td>\n",
       "      <td>83084</td>\n",
       "      <td>351941</td>\n",
       "    </tr>\n",
       "    <tr>\n",
       "      <th>7</th>\n",
       "      <td>2007</td>\n",
       "      <td>93193</td>\n",
       "      <td>376236</td>\n",
       "    </tr>\n",
       "    <tr>\n",
       "      <th>8</th>\n",
       "      <td>2008</td>\n",
       "      <td>74505</td>\n",
       "      <td>379080</td>\n",
       "    </tr>\n",
       "    <tr>\n",
       "      <th>9</th>\n",
       "      <td>2009</td>\n",
       "      <td>86980</td>\n",
       "      <td>395234</td>\n",
       "    </tr>\n",
       "    <tr>\n",
       "      <th>10</th>\n",
       "      <td>2010</td>\n",
       "      <td>85860</td>\n",
       "      <td>431262</td>\n",
       "    </tr>\n",
       "    <tr>\n",
       "      <th>11</th>\n",
       "      <td>2011</td>\n",
       "      <td>89110</td>\n",
       "      <td>464989</td>\n",
       "    </tr>\n",
       "    <tr>\n",
       "      <th>12</th>\n",
       "      <td>2012</td>\n",
       "      <td>85488</td>\n",
       "      <td>497073</td>\n",
       "    </tr>\n",
       "    <tr>\n",
       "      <th>13</th>\n",
       "      <td>2013</td>\n",
       "      <td>87047</td>\n",
       "      <td>522951</td>\n",
       "    </tr>\n",
       "    <tr>\n",
       "      <th>14</th>\n",
       "      <td>2014</td>\n",
       "      <td>92776</td>\n",
       "      <td>566611</td>\n",
       "    </tr>\n",
       "    <tr>\n",
       "      <th>15</th>\n",
       "      <td>2015</td>\n",
       "      <td>101214</td>\n",
       "      <td>622116</td>\n",
       "    </tr>\n",
       "    <tr>\n",
       "      <th>16</th>\n",
       "      <td>2016</td>\n",
       "      <td>113041</td>\n",
       "      <td>729824</td>\n",
       "    </tr>\n",
       "    <tr>\n",
       "      <th>17</th>\n",
       "      <td>2017</td>\n",
       "      <td>92342</td>\n",
       "      <td>822510</td>\n",
       "    </tr>\n",
       "    <tr>\n",
       "      <th>18</th>\n",
       "      <td>2018</td>\n",
       "      <td>78020</td>\n",
       "      <td>787842</td>\n",
       "    </tr>\n",
       "    <tr>\n",
       "      <th>19</th>\n",
       "      <td>2019</td>\n",
       "      <td>87753</td>\n",
       "      <td>819288</td>\n",
       "    </tr>\n",
       "  </tbody>\n",
       "</table>\n",
       "</div>"
      ],
      "text/plain": [
       "    Year   Sales  Average Sale Price\n",
       "0   2000   58343              243255\n",
       "1   2001   67612              251508\n",
       "2   2002   74759              275231\n",
       "3   2003   78898              293061\n",
       "4   2004   83501              315231\n",
       "5   2005   84145              335907\n",
       "6   2006   83084              351941\n",
       "7   2007   93193              376236\n",
       "8   2008   74505              379080\n",
       "9   2009   86980              395234\n",
       "10  2010   85860              431262\n",
       "11  2011   89110              464989\n",
       "12  2012   85488              497073\n",
       "13  2013   87047              522951\n",
       "14  2014   92776              566611\n",
       "15  2015  101214              622116\n",
       "16  2016  113041              729824\n",
       "17  2017   92342              822510\n",
       "18  2018   78020              787842\n",
       "19  2019   87753              819288"
      ]
     },
     "execution_count": 2,
     "metadata": {},
     "output_type": "execute_result"
    }
   ],
   "source": [
    "avg_sale_df = pd.read_csv('C:/Users/MMS-012/Documents/GitHub/TorontoHousingMarket/datasets/toronto-avgsales-avgsalesprice.csv')\n",
    "avg_sale_df"
   ]
  },
  {
   "cell_type": "code",
   "execution_count": null,
   "metadata": {},
   "outputs": [],
   "source": []
  },
  {
   "cell_type": "code",
   "execution_count": 3,
   "metadata": {},
   "outputs": [
    {
     "data": {
      "image/png": "[encoded data removed]",
      "text/plain": [
       "<Figure size 700x500 with 1 Axes>"
      ]
     },
     "metadata": {
      "needs_background": "light"
     },
     "output_type": "display_data"
    }
   ],
   "source": [
    "avg_sale_df.plot(x='Year', y='Average Sale Price', color='orangered', linewidth=4, legend=False)\n",
    "plt.ylabel('Average Sale Price (2012 dollars)', fontsize=12)\n",
    "listofyears = np.arange(2000, 2020)\n",
    "plt.xticks(listofyears)\n",
    "plt.locator_params(axis='x', nbins=9)"
   ]
  },
  {
   "cell_type": "markdown",
   "metadata": {},
   "source": [
    "\n",
    "\n",
    "## The average sale price in Toronto has increased by 237% in the last two decades, with a much dramatic rise in the last 10 years. "
   ]
  },
  {
   "cell_type": "code",
   "execution_count": null,
   "metadata": {},
   "outputs": [],
   "source": []
  },
  {
   "cell_type": "code",
   "execution_count": null,
   "metadata": {},
   "outputs": [],
   "source": []
  },
  {
   "cell_type": "markdown",
   "metadata": {},
   "source": [
    "# 1. Income and Demographics\n",
    "\n",
    "## lets check population growth over the years\n",
    "\n",
    "Toronto is one of the fastest growing metropolitan in North America. \n",
    "\n",
    "The table below shows census data for the City of Toronto over the last two decades [<sup>2</sup>](#fn2)\n",
    "And the bar chart below shows change in population as a percentage of 2001. "
   ]
  },
  {
   "cell_type": "code",
   "execution_count": 102,
   "metadata": {},
   "outputs": [
    {
     "data": {
      "text/html": [
       "<div>\n",
       "<style scoped>\n",
       "    .dataframe tbody tr th:only-of-type {\n",
       "        vertical-align: middle;\n",
       "    }\n",
       "\n",
       "    .dataframe tbody tr th {\n",
       "        vertical-align: top;\n",
       "    }\n",
       "\n",
       "    .dataframe thead th {\n",
       "        text-align: right;\n",
       "    }\n",
       "</style>\n",
       "<table border=\"1\" class=\"dataframe\">\n",
       "  <thead>\n",
       "    <tr style=\"text-align: right;\">\n",
       "      <th></th>\n",
       "      <th>Year</th>\n",
       "      <th>Population</th>\n",
       "      <th>Change</th>\n",
       "    </tr>\n",
       "  </thead>\n",
       "  <tbody>\n",
       "    <tr>\n",
       "      <th>0</th>\n",
       "      <td>2001</td>\n",
       "      <td>2481494</td>\n",
       "      <td>NaN</td>\n",
       "    </tr>\n",
       "    <tr>\n",
       "      <th>1</th>\n",
       "      <td>2006</td>\n",
       "      <td>2503281</td>\n",
       "      <td>21787.0</td>\n",
       "    </tr>\n",
       "    <tr>\n",
       "      <th>2</th>\n",
       "      <td>2011</td>\n",
       "      <td>2615060</td>\n",
       "      <td>111779.0</td>\n",
       "    </tr>\n",
       "    <tr>\n",
       "      <th>3</th>\n",
       "      <td>2016</td>\n",
       "      <td>2731571</td>\n",
       "      <td>116511.0</td>\n",
       "    </tr>\n",
       "  </tbody>\n",
       "</table>\n",
       "</div>"
      ],
      "text/plain": [
       "   Year  Population    Change\n",
       "0  2001     2481494       NaN\n",
       "1  2006     2503281   21787.0\n",
       "2  2011     2615060  111779.0\n",
       "3  2016     2731571  116511.0"
      ]
     },
     "execution_count": 102,
     "metadata": {},
     "output_type": "execute_result"
    }
   ],
   "source": [
    "pop_df = pd.read_csv(\"datasets/toronto-population.csv\")\n",
    "pop_df['Change'] = pop_df['Population'].diff()\n",
    "pop_df"
   ]
  },
  {
   "cell_type": "code",
   "execution_count": 103,
   "metadata": {},
   "outputs": [
    {
     "data": {
      "text/plain": [
       "Text(0.5, 0, 'Year')"
      ]
     },
     "execution_count": 103,
     "metadata": {},
     "output_type": "execute_result"
    },
    {
     "data": {
      "image/png": "[encoded data removed]",
      "text/plain": [
       "<Figure size 700x500 with 1 Axes>"
      ]
     },
     "metadata": {
      "needs_background": "light"
     },
     "output_type": "display_data"
    }
   ],
   "source": [
    "pop_df.plot(x='Year', y='Change', kind='bar', color='darkorchid', legend=False)\n",
    "plt.ylim(0, 130000)\n",
    "plt.ylabel('Change in population every census year', fontsize=12)\n",
    "plt.xlabel('Year', fontsize=12)"
   ]
  },
  {
   "cell_type": "code",
   "execution_count": null,
   "metadata": {},
   "outputs": [],
   "source": []
  },
  {
   "cell_type": "markdown",
   "metadata": {},
   "source": [
    "Population grew by 4.46% from 2011 to 2016, from 2,615,060 people to 2,731,571 in 2016, indicating an average annual growth close to 23000 people, which is comparable to the national growth rate of 5.9% [<sup>3</sup>](#fn3)\n",
    "\n",
    "\n",
    "\n",
    "According to a projection study done by Ontario Ministry of Finance [<sup>7</sup>](#fn7),\n",
    "\n",
    "> Within the GTA, Toronto’s population is projected to rise from 2.97 million in 2019 to 3.73 million in 2046, an increase of 25.9 per cent, slower than the provincial growth rate.\n",
    "\n",
    "\n",
    "\n",
    "As population increases, demand and competition for housing is expected to increase"
   ]
  },
  {
   "cell_type": "code",
   "execution_count": null,
   "metadata": {},
   "outputs": [],
   "source": []
  },
  {
   "cell_type": "markdown",
   "metadata": {},
   "source": [
    "##  Lets take a look at how the median income of households has changed, and compare that to the ownership costs of a typical home in Toronto. "
   ]
  },
  {
   "cell_type": "code",
   "execution_count": null,
   "metadata": {},
   "outputs": [],
   "source": []
  },
  {
   "cell_type": "code",
   "execution_count": 35,
   "metadata": {},
   "outputs": [
    {
     "data": {
      "text/html": [
       "<div>\n",
       "<style scoped>\n",
       "    .dataframe tbody tr th:only-of-type {\n",
       "        vertical-align: middle;\n",
       "    }\n",
       "\n",
       "    .dataframe tbody tr th {\n",
       "        vertical-align: top;\n",
       "    }\n",
       "\n",
       "    .dataframe thead th {\n",
       "        text-align: right;\n",
       "    }\n",
       "</style>\n",
       "<table border=\"1\" class=\"dataframe\">\n",
       "  <thead>\n",
       "    <tr style=\"text-align: right;\">\n",
       "      <th></th>\n",
       "      <th>year</th>\n",
       "      <th>median income (all households)</th>\n",
       "    </tr>\n",
       "  </thead>\n",
       "  <tbody>\n",
       "    <tr>\n",
       "      <th>0</th>\n",
       "      <td>2001</td>\n",
       "      <td>57900</td>\n",
       "    </tr>\n",
       "    <tr>\n",
       "      <th>1</th>\n",
       "      <td>2002</td>\n",
       "      <td>58200</td>\n",
       "    </tr>\n",
       "    <tr>\n",
       "      <th>2</th>\n",
       "      <td>2003</td>\n",
       "      <td>58500</td>\n",
       "    </tr>\n",
       "    <tr>\n",
       "      <th>3</th>\n",
       "      <td>2004</td>\n",
       "      <td>60100</td>\n",
       "    </tr>\n",
       "    <tr>\n",
       "      <th>4</th>\n",
       "      <td>2005</td>\n",
       "      <td>61800</td>\n",
       "    </tr>\n",
       "    <tr>\n",
       "      <th>5</th>\n",
       "      <td>2006</td>\n",
       "      <td>63800</td>\n",
       "    </tr>\n",
       "    <tr>\n",
       "      <th>6</th>\n",
       "      <td>2007</td>\n",
       "      <td>66560</td>\n",
       "    </tr>\n",
       "    <tr>\n",
       "      <th>7</th>\n",
       "      <td>2008</td>\n",
       "      <td>68120</td>\n",
       "    </tr>\n",
       "    <tr>\n",
       "      <th>8</th>\n",
       "      <td>2009</td>\n",
       "      <td>66790</td>\n",
       "    </tr>\n",
       "    <tr>\n",
       "      <th>9</th>\n",
       "      <td>2010</td>\n",
       "      <td>68110</td>\n",
       "    </tr>\n",
       "    <tr>\n",
       "      <th>10</th>\n",
       "      <td>2011</td>\n",
       "      <td>69740</td>\n",
       "    </tr>\n",
       "    <tr>\n",
       "      <th>11</th>\n",
       "      <td>2012</td>\n",
       "      <td>71210</td>\n",
       "    </tr>\n",
       "    <tr>\n",
       "      <th>12</th>\n",
       "      <td>2013</td>\n",
       "      <td>72830</td>\n",
       "    </tr>\n",
       "    <tr>\n",
       "      <th>13</th>\n",
       "      <td>2014</td>\n",
       "      <td>75270</td>\n",
       "    </tr>\n",
       "    <tr>\n",
       "      <th>14</th>\n",
       "      <td>2015</td>\n",
       "      <td>78280</td>\n",
       "    </tr>\n",
       "    <tr>\n",
       "      <th>15</th>\n",
       "      <td>2016</td>\n",
       "      <td>80310</td>\n",
       "    </tr>\n",
       "    <tr>\n",
       "      <th>16</th>\n",
       "      <td>2017</td>\n",
       "      <td>83020</td>\n",
       "    </tr>\n",
       "    <tr>\n",
       "      <th>17</th>\n",
       "      <td>2018</td>\n",
       "      <td>86670</td>\n",
       "    </tr>\n",
       "  </tbody>\n",
       "</table>\n",
       "</div>"
      ],
      "text/plain": [
       "    year  median income (all households)\n",
       "0   2001                           57900\n",
       "1   2002                           58200\n",
       "2   2003                           58500\n",
       "3   2004                           60100\n",
       "4   2005                           61800\n",
       "5   2006                           63800\n",
       "6   2007                           66560\n",
       "7   2008                           68120\n",
       "8   2009                           66790\n",
       "9   2010                           68110\n",
       "10  2011                           69740\n",
       "11  2012                           71210\n",
       "12  2013                           72830\n",
       "13  2014                           75270\n",
       "14  2015                           78280\n",
       "15  2016                           80310\n",
       "16  2017                           83020\n",
       "17  2018                           86670"
      ]
     },
     "execution_count": 35,
     "metadata": {},
     "output_type": "execute_result"
    }
   ],
   "source": [
    "med_income_df = pd.read_csv('datasets/toronto-median-income.csv')\n",
    "med_income_df['median income (all households)'] = med_income_df['median income (all households)'].str.replace(',', '').astype(int)\n",
    "med_income_df"
   ]
  },
  {
   "cell_type": "code",
   "execution_count": null,
   "metadata": {},
   "outputs": [],
   "source": []
  },
  {
   "cell_type": "code",
   "execution_count": 36,
   "metadata": {
    "scrolled": true
   },
   "outputs": [
    {
     "data": {
      "text/html": [
       "<div>\n",
       "<style scoped>\n",
       "    .dataframe tbody tr th:only-of-type {\n",
       "        vertical-align: middle;\n",
       "    }\n",
       "\n",
       "    .dataframe tbody tr th {\n",
       "        vertical-align: top;\n",
       "    }\n",
       "\n",
       "    .dataframe thead th {\n",
       "        text-align: right;\n",
       "    }\n",
       "</style>\n",
       "<table border=\"1\" class=\"dataframe\">\n",
       "  <thead>\n",
       "    <tr style=\"text-align: right;\">\n",
       "      <th></th>\n",
       "      <th>Year</th>\n",
       "      <th>Composite Benchmark Price</th>\n",
       "    </tr>\n",
       "  </thead>\n",
       "  <tbody>\n",
       "    <tr>\n",
       "      <th>0</th>\n",
       "      <td>2005</td>\n",
       "      <td>313984</td>\n",
       "    </tr>\n",
       "    <tr>\n",
       "      <th>1</th>\n",
       "      <td>2006</td>\n",
       "      <td>329542</td>\n",
       "    </tr>\n",
       "    <tr>\n",
       "      <th>2</th>\n",
       "      <td>2007</td>\n",
       "      <td>348442</td>\n",
       "    </tr>\n",
       "    <tr>\n",
       "      <th>3</th>\n",
       "      <td>2008</td>\n",
       "      <td>361567</td>\n",
       "    </tr>\n",
       "    <tr>\n",
       "      <th>4</th>\n",
       "      <td>2009</td>\n",
       "      <td>362500</td>\n",
       "    </tr>\n",
       "    <tr>\n",
       "      <th>5</th>\n",
       "      <td>2010</td>\n",
       "      <td>399434</td>\n",
       "    </tr>\n",
       "    <tr>\n",
       "      <th>6</th>\n",
       "      <td>2011</td>\n",
       "      <td>424734</td>\n",
       "    </tr>\n",
       "    <tr>\n",
       "      <th>7</th>\n",
       "      <td>2012</td>\n",
       "      <td>453500</td>\n",
       "    </tr>\n",
       "    <tr>\n",
       "      <th>8</th>\n",
       "      <td>2013</td>\n",
       "      <td>471834</td>\n",
       "    </tr>\n",
       "    <tr>\n",
       "      <th>9</th>\n",
       "      <td>2014</td>\n",
       "      <td>507409</td>\n",
       "    </tr>\n",
       "    <tr>\n",
       "      <th>10</th>\n",
       "      <td>2015</td>\n",
       "      <td>554175</td>\n",
       "    </tr>\n",
       "    <tr>\n",
       "      <th>11</th>\n",
       "      <td>2016</td>\n",
       "      <td>641434</td>\n",
       "    </tr>\n",
       "    <tr>\n",
       "      <th>12</th>\n",
       "      <td>2017</td>\n",
       "      <td>762342</td>\n",
       "    </tr>\n",
       "    <tr>\n",
       "      <th>13</th>\n",
       "      <td>2018</td>\n",
       "      <td>762617</td>\n",
       "    </tr>\n",
       "    <tr>\n",
       "      <th>14</th>\n",
       "      <td>2019</td>\n",
       "      <td>795475</td>\n",
       "    </tr>\n",
       "    <tr>\n",
       "      <th>15</th>\n",
       "      <td>2020</td>\n",
       "      <td>865467</td>\n",
       "    </tr>\n",
       "  </tbody>\n",
       "</table>\n",
       "</div>"
      ],
      "text/plain": [
       "    Year  Composite Benchmark Price\n",
       "0   2005                     313984\n",
       "1   2006                     329542\n",
       "2   2007                     348442\n",
       "3   2008                     361567\n",
       "4   2009                     362500\n",
       "5   2010                     399434\n",
       "6   2011                     424734\n",
       "7   2012                     453500\n",
       "8   2013                     471834\n",
       "9   2014                     507409\n",
       "10  2015                     554175\n",
       "11  2016                     641434\n",
       "12  2017                     762342\n",
       "13  2018                     762617\n",
       "14  2019                     795475\n",
       "15  2020                     865467"
      ]
     },
     "execution_count": 36,
     "metadata": {},
     "output_type": "execute_result"
    }
   ],
   "source": [
    "benchmark_household_df = pd.read_csv('datasets/MLS-BenchmarkPrices-AllHouseholdTypes-composite.csv')\n",
    "benchmark_household_df"
   ]
  },
  {
   "cell_type": "code",
   "execution_count": 37,
   "metadata": {},
   "outputs": [
    {
     "data": {
      "image/png": "[encoded data removed]",
      "text/plain": [
       "<Figure size 700x500 with 1 Axes>"
      ]
     },
     "metadata": {
      "needs_background": "light"
     },
     "output_type": "display_data"
    }
   ],
   "source": [
    "ax = med_income_df.plot(x='year', y='median income (all households)',  color='olivedrab', linewidth=4)\n",
    "benchmark_household_df.plot(ax=ax, x='Year', y='Composite Benchmark Price' , color='crimson', linewidth=4)\n",
    "listofyears = np.arange(2000, 2020)\n",
    "plt.xticks(listofyears)\n",
    "plt.locator_params(axis='x', nbins=9)"
   ]
  },
  {
   "cell_type": "code",
   "execution_count": null,
   "metadata": {},
   "outputs": [],
   "source": []
  },
  {
   "cell_type": "markdown",
   "metadata": {},
   "source": [
    "## Taking into consideration the growth between years 2005 to 2018 (for which we have both income and ownership cost data), median household income grew only 40% while average home ownership costs grew 143% reducing movement of middle-income households from rental housing to ownership.\n"
   ]
  },
  {
   "cell_type": "code",
   "execution_count": null,
   "metadata": {},
   "outputs": [],
   "source": []
  },
  {
   "cell_type": "code",
   "execution_count": null,
   "metadata": {},
   "outputs": [],
   "source": []
  },
  {
   "cell_type": "markdown",
   "metadata": {},
   "source": [
    "# 2. A look at the lending rates for mortgages and credit accessibility\n",
    "\n",
    "lowered mortgage lending rates and relaxed insurance rules allow for more people to enter the market. Thus driving up the demand, which if not increased in proportion to the supply, home prices will increase! \n",
    "\n",
    "A more accessible credit is kind of like an incentive for people to stop renting, and actually buying and calling a home theirs, by taking advantage of more flexible and affordable borrowing terms. \n"
   ]
  },
  {
   "cell_type": "code",
   "execution_count": 38,
   "metadata": {},
   "outputs": [
    {
     "data": {
      "text/html": [
       "<div>\n",
       "<style scoped>\n",
       "    .dataframe tbody tr th:only-of-type {\n",
       "        vertical-align: middle;\n",
       "    }\n",
       "\n",
       "    .dataframe tbody tr th {\n",
       "        vertical-align: top;\n",
       "    }\n",
       "\n",
       "    .dataframe thead th {\n",
       "        text-align: right;\n",
       "    }\n",
       "</style>\n",
       "<table border=\"1\" class=\"dataframe\">\n",
       "  <thead>\n",
       "    <tr style=\"text-align: right;\">\n",
       "      <th></th>\n",
       "      <th>Year</th>\n",
       "      <th>Lending Rate</th>\n",
       "    </tr>\n",
       "  </thead>\n",
       "  <tbody>\n",
       "    <tr>\n",
       "      <th>0</th>\n",
       "      <td>2000</td>\n",
       "      <td>8.20</td>\n",
       "    </tr>\n",
       "    <tr>\n",
       "      <th>1</th>\n",
       "      <td>2001</td>\n",
       "      <td>7.18</td>\n",
       "    </tr>\n",
       "    <tr>\n",
       "      <th>2</th>\n",
       "      <td>2002</td>\n",
       "      <td>6.70</td>\n",
       "    </tr>\n",
       "    <tr>\n",
       "      <th>3</th>\n",
       "      <td>2003</td>\n",
       "      <td>6.04</td>\n",
       "    </tr>\n",
       "    <tr>\n",
       "      <th>4</th>\n",
       "      <td>2004</td>\n",
       "      <td>5.80</td>\n",
       "    </tr>\n",
       "    <tr>\n",
       "      <th>5</th>\n",
       "      <td>2005</td>\n",
       "      <td>5.48</td>\n",
       "    </tr>\n",
       "    <tr>\n",
       "      <th>6</th>\n",
       "      <td>2006</td>\n",
       "      <td>5.98</td>\n",
       "    </tr>\n",
       "    <tr>\n",
       "      <th>7</th>\n",
       "      <td>2007</td>\n",
       "      <td>6.36</td>\n",
       "    </tr>\n",
       "    <tr>\n",
       "      <th>8</th>\n",
       "      <td>2008</td>\n",
       "      <td>6.41</td>\n",
       "    </tr>\n",
       "    <tr>\n",
       "      <th>9</th>\n",
       "      <td>2009</td>\n",
       "      <td>5.06</td>\n",
       "    </tr>\n",
       "    <tr>\n",
       "      <th>10</th>\n",
       "      <td>2010</td>\n",
       "      <td>4.82</td>\n",
       "    </tr>\n",
       "    <tr>\n",
       "      <th>11</th>\n",
       "      <td>2011</td>\n",
       "      <td>4.57</td>\n",
       "    </tr>\n",
       "    <tr>\n",
       "      <th>12</th>\n",
       "      <td>2012</td>\n",
       "      <td>4.24</td>\n",
       "    </tr>\n",
       "    <tr>\n",
       "      <th>13</th>\n",
       "      <td>2013</td>\n",
       "      <td>4.17</td>\n",
       "    </tr>\n",
       "    <tr>\n",
       "      <th>14</th>\n",
       "      <td>2014</td>\n",
       "      <td>4.08</td>\n",
       "    </tr>\n",
       "    <tr>\n",
       "      <th>15</th>\n",
       "      <td>2015</td>\n",
       "      <td>3.78</td>\n",
       "    </tr>\n",
       "    <tr>\n",
       "      <th>16</th>\n",
       "      <td>2016</td>\n",
       "      <td>3.71</td>\n",
       "    </tr>\n",
       "    <tr>\n",
       "      <th>17</th>\n",
       "      <td>2017</td>\n",
       "      <td>3.79</td>\n",
       "    </tr>\n",
       "    <tr>\n",
       "      <th>18</th>\n",
       "      <td>2018</td>\n",
       "      <td>4.37</td>\n",
       "    </tr>\n",
       "    <tr>\n",
       "      <th>19</th>\n",
       "      <td>2019</td>\n",
       "      <td>4.25</td>\n",
       "    </tr>\n",
       "    <tr>\n",
       "      <th>20</th>\n",
       "      <td>2020</td>\n",
       "      <td>3.82</td>\n",
       "    </tr>\n",
       "  </tbody>\n",
       "</table>\n",
       "</div>"
      ],
      "text/plain": [
       "    Year  Lending Rate\n",
       "0   2000          8.20\n",
       "1   2001          7.18\n",
       "2   2002          6.70\n",
       "3   2003          6.04\n",
       "4   2004          5.80\n",
       "5   2005          5.48\n",
       "6   2006          5.98\n",
       "7   2007          6.36\n",
       "8   2008          6.41\n",
       "9   2009          5.06\n",
       "10  2010          4.82\n",
       "11  2011          4.57\n",
       "12  2012          4.24\n",
       "13  2013          4.17\n",
       "14  2014          4.08\n",
       "15  2015          3.78\n",
       "16  2016          3.71\n",
       "17  2017          3.79\n",
       "18  2018          4.37\n",
       "19  2019          4.25\n",
       "20  2020          3.82"
      ]
     },
     "execution_count": 38,
     "metadata": {},
     "output_type": "execute_result"
    }
   ],
   "source": [
    "lend_rate_df = pd.read_csv('datasets/canada-lendingrates.csv')\n",
    "lend_rate_df"
   ]
  },
  {
   "cell_type": "code",
   "execution_count": 39,
   "metadata": {},
   "outputs": [
    {
     "data": {
      "image/png": "[encoded data removed]",
      "text/plain": [
       "<Figure size 700x500 with 1 Axes>"
      ]
     },
     "metadata": {
      "needs_background": "light"
     },
     "output_type": "display_data"
    }
   ],
   "source": [
    "lend_rate_df.plot(x='Year', y='Lending Rate', legend=False, color='purple', linewidth=4)\n",
    "plt.ylabel('5-year Mortgage Lending Rates (%)', fontsize=12)\n",
    "plt.locator_params(axis='x', nbins=5)"
   ]
  },
  {
   "cell_type": "markdown",
   "metadata": {},
   "source": [
    "The above graph shows the steep decline of mortgage lending rates in the last two decades, with a couple of local maxima around the time of recession in 2008 and a smaller one around 2018, before it falls further in 2020 during Covid-19 pandemic. \n",
    "\n",
    "\n",
    "A lower mortgage rate means an increase in buying power because a person can now borrow a larger sum of money, while keeping the monthly payments same! \n",
    "\n",
    "The chart below the shows the inverse relationship between lending rates and house prices. "
   ]
  },
  {
   "cell_type": "code",
   "execution_count": 40,
   "metadata": {},
   "outputs": [
    {
     "data": {
      "image/png": "[encoded data removed]",
      "text/plain": [
       "<Figure size 700x500 with 2 Axes>"
      ]
     },
     "metadata": {},
     "output_type": "display_data"
    }
   ],
   "source": [
    "fig,ax = plt.subplots()\n",
    "\n",
    "ax.plot(lend_rate_df['Year'],lend_rate_df['Lending Rate'], color='purple', linewidth=4)\n",
    "ax.set_ylim(0, 20)\n",
    "ax.set_xlabel('Year',fontsize=14)\n",
    "ax.set_ylabel('5-year Mortgage Lending Rates (%)', fontsize=12)\n",
    "ax.tick_params(axis='y', colors='purple')\n",
    "\n",
    "ax2=ax.twinx()\n",
    "ax2.plot(avg_sale_df['Year'], avg_sale_df['Average Sale Price'], color='darkorange', linewidth=4)\n",
    "ax2.set_ylim(0, 900000)\n",
    "ax2.set_ylabel('Average Sale Price (2012 dollars)', fontsize=12)\n",
    "plt.locator_params(axis='x', nbins=12)\n",
    "ax2.tick_params(axis='y', colors='darkorange')"
   ]
  },
  {
   "cell_type": "markdown",
   "metadata": {},
   "source": [
    "There is a strong inverse relationship between lending rates and sale price for the City of Toronto, but it is not a factor that can be used to understand the rise in home prices. Since, for an average person, the actual cost of owning a home has not changed significantly. Even though houses are expensive today, than 20 years ago, monthly costs are similar today to those in 2000. "
   ]
  },
  {
   "cell_type": "code",
   "execution_count": null,
   "metadata": {},
   "outputs": [],
   "source": []
  },
  {
   "cell_type": "markdown",
   "metadata": {},
   "source": [
    "# 3. Construction and Development costs\n",
    "\n",
    "These include the costs incurred due to construction material and the labour wages, which are expected to change as economies change. As these costs increase, they can drive up the home prices. \n",
    "\n",
    "Let us look at the data, and see their significance. \n",
    "\n",
    "According to Statistics Canada, \n",
    "\n",
    "> The New Housing Price Index (NHPI) is a monthly series that measures changes over time in the contractors' selling prices of new residential houses, where detailed specifications pertaining to each house remain the same between two consecutive periods.\n",
    "\n",
    "The graph below shows the New Housing Price Index (2016=100)[<sup>4</sup>](#fn4)\n",
    "\n",
    "\n"
   ]
  },
  {
   "cell_type": "code",
   "execution_count": 41,
   "metadata": {},
   "outputs": [
    {
     "data": {
      "text/html": [
       "<div>\n",
       "<style scoped>\n",
       "    .dataframe tbody tr th:only-of-type {\n",
       "        vertical-align: middle;\n",
       "    }\n",
       "\n",
       "    .dataframe tbody tr th {\n",
       "        vertical-align: top;\n",
       "    }\n",
       "\n",
       "    .dataframe thead th {\n",
       "        text-align: right;\n",
       "    }\n",
       "</style>\n",
       "<table border=\"1\" class=\"dataframe\">\n",
       "  <thead>\n",
       "    <tr style=\"text-align: right;\">\n",
       "      <th></th>\n",
       "      <th>Year</th>\n",
       "      <th>House Only</th>\n",
       "      <th>Land Only</th>\n",
       "    </tr>\n",
       "  </thead>\n",
       "  <tbody>\n",
       "    <tr>\n",
       "      <th>0</th>\n",
       "      <td>2001</td>\n",
       "      <td>52.7</td>\n",
       "      <td>78.7</td>\n",
       "    </tr>\n",
       "    <tr>\n",
       "      <th>1</th>\n",
       "      <td>2002</td>\n",
       "      <td>55.5</td>\n",
       "      <td>78.9</td>\n",
       "    </tr>\n",
       "    <tr>\n",
       "      <th>2</th>\n",
       "      <td>2003</td>\n",
       "      <td>59.0</td>\n",
       "      <td>79.1</td>\n",
       "    </tr>\n",
       "    <tr>\n",
       "      <th>3</th>\n",
       "      <td>2004</td>\n",
       "      <td>63.2</td>\n",
       "      <td>80.9</td>\n",
       "    </tr>\n",
       "    <tr>\n",
       "      <th>4</th>\n",
       "      <td>2005</td>\n",
       "      <td>66.1</td>\n",
       "      <td>84.5</td>\n",
       "    </tr>\n",
       "    <tr>\n",
       "      <th>5</th>\n",
       "      <td>2006</td>\n",
       "      <td>68.9</td>\n",
       "      <td>86.9</td>\n",
       "    </tr>\n",
       "    <tr>\n",
       "      <th>6</th>\n",
       "      <td>2007</td>\n",
       "      <td>71.0</td>\n",
       "      <td>88.4</td>\n",
       "    </tr>\n",
       "    <tr>\n",
       "      <th>7</th>\n",
       "      <td>2008</td>\n",
       "      <td>74.0</td>\n",
       "      <td>90.1</td>\n",
       "    </tr>\n",
       "    <tr>\n",
       "      <th>8</th>\n",
       "      <td>2009</td>\n",
       "      <td>74.0</td>\n",
       "      <td>90.3</td>\n",
       "    </tr>\n",
       "    <tr>\n",
       "      <th>9</th>\n",
       "      <td>2010</td>\n",
       "      <td>77.0</td>\n",
       "      <td>89.4</td>\n",
       "    </tr>\n",
       "    <tr>\n",
       "      <th>10</th>\n",
       "      <td>2011</td>\n",
       "      <td>80.6</td>\n",
       "      <td>90.4</td>\n",
       "    </tr>\n",
       "    <tr>\n",
       "      <th>11</th>\n",
       "      <td>2012</td>\n",
       "      <td>84.6</td>\n",
       "      <td>92.6</td>\n",
       "    </tr>\n",
       "    <tr>\n",
       "      <th>12</th>\n",
       "      <td>2013</td>\n",
       "      <td>86.7</td>\n",
       "      <td>93.6</td>\n",
       "    </tr>\n",
       "    <tr>\n",
       "      <th>13</th>\n",
       "      <td>2014</td>\n",
       "      <td>88.7</td>\n",
       "      <td>94.1</td>\n",
       "    </tr>\n",
       "    <tr>\n",
       "      <th>14</th>\n",
       "      <td>2015</td>\n",
       "      <td>91.2</td>\n",
       "      <td>95.8</td>\n",
       "    </tr>\n",
       "    <tr>\n",
       "      <th>15</th>\n",
       "      <td>2016</td>\n",
       "      <td>100.0</td>\n",
       "      <td>100.0</td>\n",
       "    </tr>\n",
       "    <tr>\n",
       "      <th>16</th>\n",
       "      <td>2017</td>\n",
       "      <td>102.7</td>\n",
       "      <td>105.1</td>\n",
       "    </tr>\n",
       "    <tr>\n",
       "      <th>17</th>\n",
       "      <td>2018</td>\n",
       "      <td>103.5</td>\n",
       "      <td>106.7</td>\n",
       "    </tr>\n",
       "    <tr>\n",
       "      <th>18</th>\n",
       "      <td>2019</td>\n",
       "      <td>103.8</td>\n",
       "      <td>107.1</td>\n",
       "    </tr>\n",
       "    <tr>\n",
       "      <th>19</th>\n",
       "      <td>2020</td>\n",
       "      <td>106.4</td>\n",
       "      <td>108.0</td>\n",
       "    </tr>\n",
       "  </tbody>\n",
       "</table>\n",
       "</div>"
      ],
      "text/plain": [
       "    Year  House Only  Land Only\n",
       "0   2001        52.7       78.7\n",
       "1   2002        55.5       78.9\n",
       "2   2003        59.0       79.1\n",
       "3   2004        63.2       80.9\n",
       "4   2005        66.1       84.5\n",
       "5   2006        68.9       86.9\n",
       "6   2007        71.0       88.4\n",
       "7   2008        74.0       90.1\n",
       "8   2009        74.0       90.3\n",
       "9   2010        77.0       89.4\n",
       "10  2011        80.6       90.4\n",
       "11  2012        84.6       92.6\n",
       "12  2013        86.7       93.6\n",
       "13  2014        88.7       94.1\n",
       "14  2015        91.2       95.8\n",
       "15  2016       100.0      100.0\n",
       "16  2017       102.7      105.1\n",
       "17  2018       103.5      106.7\n",
       "18  2019       103.8      107.1\n",
       "19  2020       106.4      108.0"
      ]
     },
     "execution_count": 41,
     "metadata": {},
     "output_type": "execute_result"
    }
   ],
   "source": [
    "new_house_df = pd.read_csv('datasets/newhousingpriceindex.csv')\n",
    "new_house_df"
   ]
  },
  {
   "cell_type": "code",
   "execution_count": 42,
   "metadata": {},
   "outputs": [
    {
     "data": {
      "text/plain": [
       "Text(0, 0.5, 'New House Price Index (2016=100)')"
      ]
     },
     "execution_count": 42,
     "metadata": {},
     "output_type": "execute_result"
    },
    {
     "data": {
      "image/png": "[encoded data removed]",
      "text/plain": [
       "<Figure size 700x500 with 1 Axes>"
      ]
     },
     "metadata": {
      "needs_background": "light"
     },
     "output_type": "display_data"
    }
   ],
   "source": [
    "ax4 = new_house_df.plot(x='Year', y='House Only', color='mediumblue', linewidth=4)\n",
    "new_house_df.plot(ax=ax4, x='Year', y='Land Only', color='green', linewidth=4)\n",
    "plt.locator_params(axis='x', nbins=12)\n",
    "plt.ylabel('New House Price Index (2016=100)')"
   ]
  },
  {
   "cell_type": "markdown",
   "metadata": {},
   "source": [
    "\n",
    "The New Housing Price Index graph shows a steady increase in both Land and New House prices, with 2016 as the reference year at 100. The point to note is that house prices have had a much steeper increase in price than the land prices themselves. \n",
    "\n",
    "This index acts as an alias to the prices. Therefore, the price of the land contributes about 70%, on an average, in the increase of house prices. \n",
    "\n",
    "\n",
    "In the recent years, \n",
    "\n",
    "house: 106.4-52.7 = 53.7\n",
    "land: 108-78.7 = 29.3\n",
    "\n",
    "accounts for almost 55% of the increase! \n",
    "\n",
    "\n",
    "house 106.4 -100 = 6.4\n",
    "land: 108 -100 = 8 \n",
    "\n",
    "80% of the price index! \n",
    "\n",
    "\n"
   ]
  },
  {
   "cell_type": "code",
   "execution_count": null,
   "metadata": {},
   "outputs": [],
   "source": []
  },
  {
   "cell_type": "code",
   "execution_count": null,
   "metadata": {},
   "outputs": [],
   "source": []
  },
  {
   "cell_type": "code",
   "execution_count": null,
   "metadata": {},
   "outputs": [],
   "source": []
  },
  {
   "cell_type": "markdown",
   "metadata": {},
   "source": [
    "\n",
    "\n",
    "The cost of labour can also be a driving factor for higher home prices in Toronto. Labour can be costly in highly sought after locations, such as metropolitan areas like Toronto.\n",
    "\n",
    "\n",
    "Construction Union Wage Rate Index [<sup>5</sup>](#fn5)\n"
   ]
  },
  {
   "cell_type": "code",
   "execution_count": 43,
   "metadata": {},
   "outputs": [
    {
     "name": "stdout",
     "output_type": "stream",
     "text": [
      "    Year  Wage Index\n",
      "0   2000        82.7\n",
      "1   2001        84.8\n",
      "2   2002        87.5\n",
      "3   2003        89.7\n",
      "4   2004        92.5\n",
      "5   2005        95.5\n",
      "6   2006        98.0\n",
      "7   2007       100.0\n",
      "8   2008       104.0\n",
      "9   2009       107.8\n",
      "10  2010       110.7\n",
      "11  2011       113.5\n",
      "12  2012       116.4\n",
      "13  2013       119.4\n",
      "14  2014       122.3\n",
      "15  2015       125.9\n",
      "16  2016       128.5\n",
      "17  2017       130.7\n",
      "18  2018       132.7\n"
     ]
    },
    {
     "data": {
      "image/png": "[encoded data removed]",
      "text/plain": [
       "<Figure size 700x500 with 1 Axes>"
      ]
     },
     "metadata": {
      "needs_background": "light"
     },
     "output_type": "display_data"
    }
   ],
   "source": [
    "wage_df = pd.read_csv('datasets/toronto-wageindex.csv')\n",
    "print(wage_df)\n",
    "wage_df.plot(x='Year', y ='Wage Index', color='m', linewidth=4 )\n",
    "plt.ylabel('Construction Union Composite Wage Index', fontsize=12)\n",
    "plt.ylim(40,150)\n",
    "plt.locator_params(axis='x', nbins=12)"
   ]
  },
  {
   "cell_type": "markdown",
   "metadata": {},
   "source": [
    "The construction union composite wage index shows an increase by 60%. "
   ]
  },
  {
   "cell_type": "code",
   "execution_count": null,
   "metadata": {},
   "outputs": [],
   "source": []
  },
  {
   "cell_type": "code",
   "execution_count": null,
   "metadata": {},
   "outputs": [],
   "source": []
  },
  {
   "cell_type": "markdown",
   "metadata": {},
   "source": [
    "### Average Development Charges and Housing prices - comparison of 2002 and 2010 data"
   ]
  },
  {
   "cell_type": "code",
   "execution_count": 46,
   "metadata": {},
   "outputs": [
    {
     "name": "stdout",
     "output_type": "stream",
     "text": [
      "   Year  Avg House Price  Avg Development Charge\n",
      "0  2002           275231                    5148\n",
      "1  2010           431262                   12281\n"
     ]
    },
    {
     "data": {
      "text/plain": [
       "Text(0, 0.5, 'Price (2012 dollars)')"
      ]
     },
     "execution_count": 46,
     "metadata": {},
     "output_type": "execute_result"
    },
    {
     "data": {
      "image/png": "[encoded data removed]",
      "text/plain": [
       "<Figure size 700x500 with 1 Axes>"
      ]
     },
     "metadata": {
      "needs_background": "light"
     },
     "output_type": "display_data"
    }
   ],
   "source": [
    "dev_df = pd.read_csv('datasets/toronto-devcharges.csv')\n",
    "print(dev_df)\n",
    "ax = dev_df.plot.bar(x='Year', stacked=True, color={'orange', 'c'})\n",
    "ax.set_ylabel('Price (2012 dollars)')"
   ]
  },
  {
   "cell_type": "markdown",
   "metadata": {},
   "source": [
    "In 2002, development charge was 1.9% of the average home price, while in 2010 it was 2.9%, an increase of 140%. \n",
    "\n",
    "increase in DC 7133\n",
    "increase in price 156031\n",
    "\n",
    "increase fraction 4.6%\n",
    "\n",
    "Between 2002 and 2010, even though the average house price increased by 57%,  the fractional increase in development charges is very small. \n",
    "\n",
    "### The increase in development charges accounts for only 4.6% of the increase in home prices, which is very insignificant! \n",
    "\n",
    "### [ The increase in these charges accounts for only a small fraction of the increase in home prices. ]\n",
    "\n",
    "\n",
    "\n",
    "\n",
    "\n",
    "## 4. Land Availability \n",
    "\n",
    "Toronto is a highly sought after location to live in, and thus land available for residential purposes is becoming scarcer each passing day. This can reduce the supply of housing available, and drive up housing prices. \n",
    "\n"
   ]
  },
  {
   "cell_type": "code",
   "execution_count": null,
   "metadata": {},
   "outputs": [],
   "source": []
  },
  {
   "cell_type": "code",
   "execution_count": null,
   "metadata": {},
   "outputs": [],
   "source": []
  },
  {
   "cell_type": "markdown",
   "metadata": {},
   "source": [
    "## 5. Supply and Stock\n",
    "\n",
    "\n",
    "\n",
    "New homes beginning to be constructed [<sup>6</sup>](#fn6)\n",
    "\n"
   ]
  },
  {
   "cell_type": "code",
   "execution_count": 45,
   "metadata": {},
   "outputs": [
    {
     "data": {
      "text/html": [
       "<div>\n",
       "<style scoped>\n",
       "    .dataframe tbody tr th:only-of-type {\n",
       "        vertical-align: middle;\n",
       "    }\n",
       "\n",
       "    .dataframe tbody tr th {\n",
       "        vertical-align: top;\n",
       "    }\n",
       "\n",
       "    .dataframe thead th {\n",
       "        text-align: right;\n",
       "    }\n",
       "</style>\n",
       "<table border=\"1\" class=\"dataframe\">\n",
       "  <thead>\n",
       "    <tr style=\"text-align: right;\">\n",
       "      <th></th>\n",
       "      <th>Year</th>\n",
       "      <th>Housing starts</th>\n",
       "      <th>Housing under construction</th>\n",
       "      <th>Housing completions</th>\n",
       "    </tr>\n",
       "  </thead>\n",
       "  <tbody>\n",
       "    <tr>\n",
       "      <th>0</th>\n",
       "      <td>2000</td>\n",
       "      <td>38982</td>\n",
       "      <td>30273</td>\n",
       "      <td>33740</td>\n",
       "    </tr>\n",
       "    <tr>\n",
       "      <th>1</th>\n",
       "      <td>2001</td>\n",
       "      <td>41017</td>\n",
       "      <td>34305</td>\n",
       "      <td>37138</td>\n",
       "    </tr>\n",
       "    <tr>\n",
       "      <th>2</th>\n",
       "      <td>2002</td>\n",
       "      <td>43805</td>\n",
       "      <td>33094</td>\n",
       "      <td>45170</td>\n",
       "    </tr>\n",
       "    <tr>\n",
       "      <th>3</th>\n",
       "      <td>2003</td>\n",
       "      <td>45475</td>\n",
       "      <td>39907</td>\n",
       "      <td>38644</td>\n",
       "    </tr>\n",
       "    <tr>\n",
       "      <th>4</th>\n",
       "      <td>2004</td>\n",
       "      <td>42115</td>\n",
       "      <td>42148</td>\n",
       "      <td>39620</td>\n",
       "    </tr>\n",
       "    <tr>\n",
       "      <th>5</th>\n",
       "      <td>2005</td>\n",
       "      <td>41596</td>\n",
       "      <td>44305</td>\n",
       "      <td>39296</td>\n",
       "    </tr>\n",
       "    <tr>\n",
       "      <th>6</th>\n",
       "      <td>2006</td>\n",
       "      <td>37080</td>\n",
       "      <td>42654</td>\n",
       "      <td>38121</td>\n",
       "    </tr>\n",
       "    <tr>\n",
       "      <th>7</th>\n",
       "      <td>2007</td>\n",
       "      <td>33293</td>\n",
       "      <td>45470</td>\n",
       "      <td>30357</td>\n",
       "    </tr>\n",
       "    <tr>\n",
       "      <th>8</th>\n",
       "      <td>2008</td>\n",
       "      <td>42212</td>\n",
       "      <td>50823</td>\n",
       "      <td>36258</td>\n",
       "    </tr>\n",
       "    <tr>\n",
       "      <th>9</th>\n",
       "      <td>2009</td>\n",
       "      <td>25949</td>\n",
       "      <td>48361</td>\n",
       "      <td>28356</td>\n",
       "    </tr>\n",
       "    <tr>\n",
       "      <th>10</th>\n",
       "      <td>2010</td>\n",
       "      <td>29195</td>\n",
       "      <td>46552</td>\n",
       "      <td>31393</td>\n",
       "    </tr>\n",
       "    <tr>\n",
       "      <th>11</th>\n",
       "      <td>2011</td>\n",
       "      <td>39745</td>\n",
       "      <td>52589</td>\n",
       "      <td>33831</td>\n",
       "    </tr>\n",
       "    <tr>\n",
       "      <th>12</th>\n",
       "      <td>2012</td>\n",
       "      <td>48105</td>\n",
       "      <td>68812</td>\n",
       "      <td>31907</td>\n",
       "    </tr>\n",
       "    <tr>\n",
       "      <th>13</th>\n",
       "      <td>2013</td>\n",
       "      <td>33547</td>\n",
       "      <td>69062</td>\n",
       "      <td>33708</td>\n",
       "    </tr>\n",
       "    <tr>\n",
       "      <th>14</th>\n",
       "      <td>2014</td>\n",
       "      <td>28929</td>\n",
       "      <td>68948</td>\n",
       "      <td>29213</td>\n",
       "    </tr>\n",
       "    <tr>\n",
       "      <th>15</th>\n",
       "      <td>2015</td>\n",
       "      <td>42287</td>\n",
       "      <td>64798</td>\n",
       "      <td>46384</td>\n",
       "    </tr>\n",
       "    <tr>\n",
       "      <th>16</th>\n",
       "      <td>2016</td>\n",
       "      <td>39027</td>\n",
       "      <td>68918</td>\n",
       "      <td>34613</td>\n",
       "    </tr>\n",
       "    <tr>\n",
       "      <th>17</th>\n",
       "      <td>2017</td>\n",
       "      <td>38738</td>\n",
       "      <td>70349</td>\n",
       "      <td>37132</td>\n",
       "    </tr>\n",
       "    <tr>\n",
       "      <th>18</th>\n",
       "      <td>2018</td>\n",
       "      <td>41107</td>\n",
       "      <td>72175</td>\n",
       "      <td>37750</td>\n",
       "    </tr>\n",
       "    <tr>\n",
       "      <th>19</th>\n",
       "      <td>2019</td>\n",
       "      <td>30462</td>\n",
       "      <td>74451</td>\n",
       "      <td>27410</td>\n",
       "    </tr>\n",
       "  </tbody>\n",
       "</table>\n",
       "</div>"
      ],
      "text/plain": [
       "    Year  Housing starts  Housing under construction  Housing completions\n",
       "0   2000           38982                       30273                33740\n",
       "1   2001           41017                       34305                37138\n",
       "2   2002           43805                       33094                45170\n",
       "3   2003           45475                       39907                38644\n",
       "4   2004           42115                       42148                39620\n",
       "5   2005           41596                       44305                39296\n",
       "6   2006           37080                       42654                38121\n",
       "7   2007           33293                       45470                30357\n",
       "8   2008           42212                       50823                36258\n",
       "9   2009           25949                       48361                28356\n",
       "10  2010           29195                       46552                31393\n",
       "11  2011           39745                       52589                33831\n",
       "12  2012           48105                       68812                31907\n",
       "13  2013           33547                       69062                33708\n",
       "14  2014           28929                       68948                29213\n",
       "15  2015           42287                       64798                46384\n",
       "16  2016           39027                       68918                34613\n",
       "17  2017           38738                       70349                37132\n",
       "18  2018           41107                       72175                37750\n",
       "19  2019           30462                       74451                27410"
      ]
     },
     "execution_count": 45,
     "metadata": {},
     "output_type": "execute_result"
    }
   ],
   "source": [
    "supply_df = pd.read_csv('datasets/toronto-starts-underconstruction-completions.csv')\n",
    "supply_df"
   ]
  },
  {
   "cell_type": "code",
   "execution_count": 55,
   "metadata": {},
   "outputs": [
    {
     "data": {
      "image/png": "[encoded data removed]",
      "text/plain": [
       "<Figure size 700x500 with 1 Axes>"
      ]
     },
     "metadata": {
      "needs_background": "light"
     },
     "output_type": "display_data"
    }
   ],
   "source": [
    "ax5 = supply_df.plot(x='Year', y='Housing completions', color='dodgerblue', linewidth=4)\n",
    "supply_df.plot(ax=ax5, x='Year', y='Housing under construction', color='tomato', linewidth=4)\n",
    "supply_df.plot(ax=ax5, x='Year', y='Housing starts', color='yellowgreen', linewidth=4)\n",
    "plt.locator_params(axis='x', nbins=12)"
   ]
  },
  {
   "cell_type": "markdown",
   "metadata": {},
   "source": [
    "The stock of houses that have completed construction, which means that they are available to buy, have not shown an appreciable increase over the last two decades in Toronto. In fact, no of houses completed in 2019 was lower than those completed in 2000! \n",
    "\n",
    "New houses starting to be constructed have gone down, again 2019 numbers are lower than 2000. \n",
    "\n",
    "The most alarming situation is that the number of houses under construction have increased very much -- by 146% since 2000\n",
    "\n",
    "\n",
    "\n",
    "\n",
    "Between 2011 and 2016, according to the Census results [above](#lets-check-population-growth-over-the-years) , we added 1.17 million\n"
   ]
  },
  {
   "cell_type": "code",
   "execution_count": null,
   "metadata": {},
   "outputs": [],
   "source": []
  },
  {
   "cell_type": "code",
   "execution_count": null,
   "metadata": {},
   "outputs": [],
   "source": []
  },
  {
   "cell_type": "code",
   "execution_count": null,
   "metadata": {},
   "outputs": [],
   "source": []
  },
  {
   "cell_type": "code",
   "execution_count": null,
   "metadata": {},
   "outputs": [],
   "source": []
  },
  {
   "cell_type": "markdown",
   "metadata": {},
   "source": [
    "# Conclusion\n",
    "\n",
    "We examined many factors affecting Toronto's housing market. We looked at many factors including population growth, income trends, stock of houses (both new and in the pipeline), labour and development costs, land prices and mortgage lending rates. \n",
    "\n",
    "While all of these factors contribute in the increase of house prices, they do so in varying degrees of time and  intensity. \n",
    "\n",
    "* We saw that immense population growth in the City of Toronto. It has grown by 4 to 5% between 2011 and 2016, it is projected to grow by \n",
    "\n",
    "\n",
    "## Most important factor for rise in house prices \n",
    "\n",
    "\n",
    "### Sources of Error\n",
    "* The data obtained from various public sources referenced [below](#References)\n",
    "* Sampling Error: The data ob\n",
    "\n",
    "\n",
    "\n",
    "## Recommendations and next steps given initial data analysis (with my limited expertise)\n",
    "\n",
    "* houses under construction should be completed asap! \n",
    "\n"
   ]
  },
  {
   "cell_type": "markdown",
   "metadata": {},
   "source": [
    "# References\n",
    "\n",
    "\n",
    "\n",
    "\n",
    "<span id=\"fn1\">1. Source: Toronto Regional Real Estate Board Historic Archive </span>\n",
    "\n",
    "\n",
    "<span id=\"fn2\">2. Sources:\n",
    "(a) \"Population and dwelling counts, for Canada, census metropolitan areas, census agglomerations and census subdivisions (municipalities), 2006 and 2001 censuses - 100% data\". Statistics Canada, 2006 Census of Population. \n",
    "(b) \"Population and dwelling counts, for Canada, census metropolitan areas, census agglomerations and census subdivisions (municipalities), 2011 and 2006 censuses\". Statistics Canada, 2011 Census of Population.\n",
    "(c) \"Toronto population count\". Statistics Canada, 2016 Census of Population. </span>\n",
    "\n",
    "\n",
    "\n",
    "<span id=\"fn3\">3. Source:  Statistics Canada: https://www12.statcan.gc.ca/census-recensement/2011/as-sa/fogs-spg/Facts-cma-eng.cfm?LANG=Eng&GK=CMA&GC=535) </span>\n",
    "\n",
    "\n",
    "\n",
    "\n",
    "<span id=\"fn4\">4. Source: Statistics Canada. Table 18-10-0205-01 New housing price index</span>\n",
    "\n",
    "\n",
    "<span id=\"fn5\">5. Source: Statistics Canada. Table 18-10-0051-01 Construction union wage rates index, monthly</span>\n",
    "\n",
    "\n",
    "\n",
    "<span id=\"fn6\">6. Source: Statistics Canada. Table 34-10-0134-01 Canada Mortgage and Housing Corporation, housing starts, under construction and completions in selected census metropolitan areas, annual</span>\n",
    "\n",
    "<span id=\"fn7\">7. Source: Ontario Population Projections Update, 2019–2046 https://www.fin.gov.on.ca/en/economy/demographics/projections/ </span>"
   ]
  },
  {
   "cell_type": "code",
   "execution_count": null,
   "metadata": {},
   "outputs": [],
   "source": []
  }
 ],
 "metadata": {
  "kernelspec": {
   "display_name": "Python 3",
   "language": "python",
   "name": "python3"
  },
  "language_info": {
   "codemirror_mode": {
    "name": "ipython",
    "version": 3
   },
   "file_extension": ".py",
   "mimetype": "text/x-python",
   "name": "python",
   "nbconvert_exporter": "python",
   "pygments_lexer": "ipython3",
   "version": "3.7.6"
  }
 },
 "nbformat": 4,
 "nbformat_minor": 4
}
